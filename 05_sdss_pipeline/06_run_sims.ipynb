{
 "cells": [
  {
   "cell_type": "markdown",
   "id": "4585e438-47cb-4b32-9649-055fcbe0d57d",
   "metadata": {},
   "source": [
    "## This notebook runs 1000 Monte Carlo simulations\n",
    "\n",
    "In the earlier pipeline stage `05_exploratory_plots`, we plotted quantities such as $P_{gv}(k)$, but didn't assign error bars, since we used a limited number ($\\sim$ 5) of Monte Carlos. Next, we run 1000 Monte Carlos, in order to make these plots with less statistical noise, and with proper error bars. The logic is split between this pipeline stage (`06_run_sims`) and the next stage (`07_the_end`).\n",
    "\n",
    "#### How to run this notebook\n",
    "\n",
    " - In principle, you can start this notebook, walk away for $\\sim 5$ hours, and end up with 1000 Monte Carlo simulations.\n",
    "\n",
    " - In practice, I prefer not to do it this way, since it requires babysitting the connection to the jupyterlab server for $\\sim 5$ hours.\n",
    "\n",
    " - Here's what I do: log in with ssh, convert the jupyter notebook (`06_run_sims.ipynb`) to a python script (`06_run_sims.py`), and run the script from the command line. (As a final detail, I run the script in a screen/tmux session, so that I can disconnect the ssh session.)\n",
    "   \n",
    "   ```\n",
    "   jupyter nbconvert --to python 06_run_sims.ipynb\n",
    "   python 06_run_sims.py  # will run for ~5 hours  \n",
    "   ```\n",
    "\n",
    "#### Output files\n",
    "\n",
    " - `pk_data.npy`: contains power spectra $P_{gg}$, $P_{gv}$, $P_{vv}$ of SDSS data, for two velocity reconstructions (90 and 150 GHz). File format is a single `(nfields,nfields,nkbins)` numpy array, where the `nfields` axes have length 3 and corrresponds to fields {gal, v90, v150}.\n",
    "\n",
    " - `pk_mocks.npy`: contains power spectra $P_{gg}$, $P_{gv}$, $P_{vv}$ of SDSS **mocks**. File format is a single `(nmocks,nfields,nfields,nkbins)` numpy array, where the `nfields` axes have length 3 and corrresponds to fields {gal, v90, v150}.\n",
    "\n",
    " - `pk_surrogates.npy`: contains power spectra $P_{gg}$, $P_{gv}$, $P_{vv}$ of SDSS **surrogates**. File format is a single `(nsurr,nfnl,nfields,nfields,nkbins)` numpy array. The `nfnl` axis has length 3 and corresponds to $f_{NL} = (-250,0,250)$. The `nfields` axes have length 3 and corrrespond to fields {gal, v90, v150}."
   ]
  },
  {
   "cell_type": "markdown",
   "id": "e333b175-dff3-4763-b7e6-48e7a337df58",
   "metadata": {},
   "source": [
    "## Imports and global variables"
   ]
  },
  {
   "cell_type": "code",
   "execution_count": 1,
   "id": "38539bf7-4f97-4d30-bd7b-71e691b15b16",
   "metadata": {},
   "outputs": [],
   "source": [
    "import os\n",
    "import time\n",
    "import kszx\n",
    "import functools\n",
    "import numpy as np"
   ]
  },
  {
   "cell_type": "code",
   "execution_count": 2,
   "id": "30a76e64-f2b9-45f2-aa4f-8596d70559ca",
   "metadata": {},
   "outputs": [],
   "source": [
    "# File 'global_params.py' in current directory\n",
    "import global_params\n",
    "\n",
    "nkbins = global_params.nkbins\n",
    "kbin_edges = global_params.kbin_edges\n",
    "kbin_centers = global_params.kbin_centers\n",
    "\n",
    "surr_bg = global_params.surr_bg\n",
    "nmocks = global_params.sdss_nmocks\n",
    "nsurr = global_params.num_surrogates"
   ]
  },
  {
   "cell_type": "markdown",
   "id": "a0473648-9a97-4888-9ac6-4d2d0f920460",
   "metadata": {},
   "source": [
    "## Read input files\n",
    "  - `bounding_box.pkl`: created in pipeline stage `04_prepare_catalogs.ipynb`\n",
    "  - `ngal.npy`: created in pipeline stage `04_prepare_catalogs.ipynb`"
   ]
  },
  {
   "cell_type": "code",
   "execution_count": 3,
   "id": "9b8de0d8-8521-44fb-b0b8-4e173fba40c8",
   "metadata": {},
   "outputs": [
    {
     "name": "stdout",
     "output_type": "stream",
     "text": [
      "Reading bounding_box.pkl\n",
      "Running CAMB\n",
      "Reading mock_ngal.npy\n"
     ]
    }
   ],
   "source": [
    "box = kszx.io_utils.read_pickle('bounding_box.pkl')\n",
    "cosmo = kszx.Cosmology('planck18+bao')\n",
    "\n",
    "mock_ngal = kszx.io_utils.read_npy('mock_ngal.npy')\n",
    "ngal_mean = np.mean(mock_ngal)\n",
    "ngal_rms = np.var(mock_ngal)**0.5"
   ]
  },
  {
   "cell_type": "markdown",
   "id": "4a992dd3-2e4d-4fc9-a54c-3f30832cc4f1",
   "metadata": {},
   "source": [
    "## Setting up power spectrum estimation\n",
    "\n",
    "These functions are very similar to their counterparts in `05_exploratory_plots.ipynb`."
   ]
  },
  {
   "cell_type": "code",
   "execution_count": 4,
   "id": "5e85606f-b36b-4fef-924b-2dfc2dd908c2",
   "metadata": {},
   "outputs": [],
   "source": [
    "@functools.cache\n",
    "def get_pse(mrand):\n",
    "    \"\"\"Returns a kszx.KszPSE object. \n",
    "    \n",
    "    A KszPSE computes power spectra involving a galaxy field and one or more velocity\n",
    "    reconstructions, or surrogates for these fields. In our pipeline, we use two velocity\n",
    "    reconstructions vr_90, vr_150 (corresponding to 90+150 GHz CMB data). See the KszPSE\n",
    "    docstring for more info.\n",
    "    \n",
    "    If 'mrand' is True, use the mock random catalog, instead of the random catalog.\n",
    "    (The KszPSE constructor needs the random catalog to define the survey geometry.)\n",
    "    \"\"\"\n",
    "\n",
    "    print(f'Constructing PSE ({mrand=})')\n",
    "    \n",
    "    rname = 'mock_randoms.h5' if mrand else 'randoms.h5'\n",
    "    catalog = kszx.Catalog.from_h5(f'catalogs/{rname}')\n",
    "    \n",
    "    return kszx.KszPSE(\n",
    "        box = box, \n",
    "        cosmo = cosmo, \n",
    "        randcat = catalog, \n",
    "        kbin_edges = kbin_edges,\n",
    "        surr_ngal_mean = ngal_mean,   # ngal_mean was computed above\n",
    "        surr_ngal_rms = ngal_rms,     # ngal_rms was computed above\n",
    "        surr_bg = surr_bg,\n",
    "        rweights = catalog.wfkp,\n",
    "        nksz = 2,\n",
    "        # ksz_rweights = None,\n",
    "        ksz_bv = [ catalog.bv_90, catalog.bv_150 ],\n",
    "        ksz_tcmb_realization = [ catalog.tcmb_90, catalog.tcmb_150 ]\n",
    "    )"
   ]
  },
  {
   "cell_type": "code",
   "execution_count": 5,
   "id": "b288e2ec-5720-4648-8241-454621058f45",
   "metadata": {},
   "outputs": [],
   "source": [
    "def project_tcmb(bv, tcmb):\n",
    "    \"\"\"The arguments are 1-d arrays of (bv, tcmb) values, evaluated at galaxy locations.\n",
    "    Returns a new tcmb array, after subtracting the bv-weighted mean.\n",
    "    Added by KMS 2025 April 22.\"\"\"\n",
    "    return tcmb - (np.dot(bv,tcmb)/np.dot(bv,bv)) * bv"
   ]
  },
  {
   "cell_type": "code",
   "execution_count": 6,
   "id": "92a39843-c856-4fd4-982b-4fa457824697",
   "metadata": {},
   "outputs": [],
   "source": [
    "def run_data():\n",
    "    \"\"\"Compute P_gg, P_gv, and P_vv for SDSS data, and cache the result in 'pk_data.npy'.\n",
    "    \n",
    "    The result is returned as a shape (nfields, nfields, nkbins) array, where the field index\n",
    "    has length nfields=3, and indexes a field { gal, vr_90, vr_150 }. Thus, the returned array\n",
    "    contains all auto and cross power spectra involving the galaxy field and velocity reconstructions.\n",
    "    \"\"\"\n",
    "    \n",
    "    filename = 'pk_data.npy'\n",
    "    if os.path.exists(filename):\n",
    "        time.sleep(0.1)  # work around race condition in python multiprocessing\n",
    "        return kszx.io_utils.read_npy(filename)\n",
    "\n",
    "    gcat = kszx.Catalog.from_h5('catalogs/galaxies.h5')\n",
    "    pse = get_pse(False)\n",
    "\n",
    "    # Mean subtraction (added by KMS 2025 April 22)\n",
    "    t90 = project_tcmb(gcat.bv_90, gcat.tcmb_90)\n",
    "    t150 = project_tcmb(gcat.bv_150, gcat.tcmb_150)\n",
    "    \n",
    "    pk = pse.eval_pk(\n",
    "        gcat = gcat,\n",
    "        gweights = gcat.wfkp * (gcat.wzf + gcat.wcp - 1) * gcat.wsys,\n",
    "        # ksz_gweights = None, \n",
    "        ksz_bv = [ gcat.bv_90, gcat.bv_150 ], \n",
    "        ksz_tcmb = [ t90, t150 ]\n",
    "    )\n",
    "\n",
    "    kszx.io_utils.write_npy(filename, pk)\n",
    "    return pk\n"
   ]
  },
  {
   "cell_type": "code",
   "execution_count": 7,
   "id": "895e1b88-597f-4405-b857-5bf5601b1e27",
   "metadata": {},
   "outputs": [],
   "source": [
    "def run_mock(i):\n",
    "    \"\"\"Compute P_gg, P_gv, and P_vv for one SDSS mock, and cache the result in power_spectra/pk_mock_{i}.npy.\n",
    "\n",
    "    The result is returned as a shape (nfields, nfields, nkbins) array, where the field index\n",
    "    has length nfields=3, and indexes a field { gal, vr_90, vr_150 }. Thus, the returned array\n",
    "    contains all auto and cross power spectra involving the galaxy field and velocity reconstructions.\n",
    "    \"\"\"\n",
    "    \n",
    "    filename = f'power_spectra/pk_mock_{i}.npy'\n",
    "    if os.path.exists(filename):\n",
    "        time.sleep(0.1)  # work around race condition in python multiprocessing\n",
    "        return kszx.io_utils.read_npy(filename)\n",
    "\n",
    "    print(f'Generating {filename}\\n', end='')\n",
    "    gcat = kszx.Catalog.from_h5(f'catalogs/mock_{i}.h5')\n",
    "    pse = get_pse(True)\n",
    "    \n",
    "    # Mean subtraction (added by KMS 2025 April 22)\n",
    "    t90 = project_tcmb(gcat.bv_90, gcat.tcmb_90)\n",
    "    t150 = project_tcmb(gcat.bv_150, gcat.tcmb_150)\n",
    "    \n",
    "    pk = pse.eval_pk(\n",
    "        gcat = gcat,\n",
    "        gweights = gcat.wfkp,  # no sysweights for mocks\n",
    "        # ksz_gweights = None, \n",
    "        ksz_bv = [ gcat.bv_90, gcat.bv_150 ], \n",
    "        ksz_tcmb = [ t90, t150 ]\n",
    "    )\n",
    "        \n",
    "    kszx.io_utils.write_npy(filename, pk)\n",
    "    return pk"
   ]
  },
  {
   "cell_type": "code",
   "execution_count": 8,
   "id": "ade133a2-2141-435b-a595-b30b121c95f2",
   "metadata": {},
   "outputs": [],
   "source": [
    "def run_surrogate(i):\n",
    "    \"\"\"Compute P_gg, P_gv, and P_vv for one SDSS surrogate.\n",
    "\n",
    "    The result is returned as a shape (nfields, nfields, nkbins) array, where the\n",
    "    field index has length nfields=6, and indexes a field \n",
    "       { gal, dgal/dfNL, vr90, d(vr90)/dbv, vr150, d(vr150)/dbv }. \n",
    "    \n",
    "    Thus, the returned array contains all auto and cross power spectra involving the\n",
    "    surrogate galaxy field and velocity reconstructions, for all fNL and b_v values.\n",
    "    \"\"\"\n",
    "    \n",
    "    filename = f'power_spectra/pk_surr_{i}.npy'\n",
    "    if os.path.exists(filename):\n",
    "        time.sleep(0.1)  # work around race condition in python multiprocessing\n",
    "        return kszx.io_utils.read_npy(filename)\n",
    "\n",
    "    print(f'Generating {filename}\\n', end='')\n",
    "    pse = get_pse(False)\n",
    "    pse.simulate_surrogate()\n",
    "\n",
    "    # Mean subtraction (added by KMS 2025 April 22)\n",
    "    # Reminder: the pse.Sv_* arrays have shape (nksz, nrand), where nksz=2 corresponds to [90,150],\n",
    "    # and includes the small-scale weighting W_S.\n",
    "    \n",
    "    pse.Sv_noise -= np.mean(pse.Sv_noise, axis=1).reshape((-1,1))\n",
    "    pse.Sv_signal -= np.mean(pse.Sv_signal, axis=1).reshape((-1,1))\n",
    "    \n",
    "    pk = pse.eval_pk_surrogate()    \n",
    "    \n",
    "    kszx.io_utils.write_npy(filename, pk)\n",
    "    return pk"
   ]
  },
  {
   "cell_type": "markdown",
   "id": "3ba0ba50-7294-428b-b5e6-b5829bb7ff1d",
   "metadata": {},
   "source": [
    "## Run everything\n",
    "\n",
    "  - We use a multiprocessing Pool to run realizations in parallel, and use all CPU cores.\n",
    "\n",
    "  - **IMPORTANT NOTE**: we construct the power spectrum estimators before creating the multiprocessing Pool. This is okay because the estimators are the same for all workers in the pool. If instead of doing this, we constructed a power spectrum estimator independently on each worker, the memory usage would be much higher!\n",
    "\n",
    "  - **IMPORANT NOTE**: we use a kszx.utils.Pool, not a multiprocessing.Pool. This reseeds the global numpy RNG in each worker process. If we didn't do this, there would be a lot of duplicate surrogate sims! See the [kszx.utils.Pool](https://kszx.readthedocs.io/en/latest/misc_utils.html#kszx.utils.Pool) docstring for more discussion."
   ]
  },
  {
   "cell_type": "code",
   "execution_count": 9,
   "id": "b6ab5036-cd56-49ae-a955-6f702d86aa80",
   "metadata": {},
   "outputs": [
    {
     "name": "stdout",
     "output_type": "stream",
     "text": [
      "Constructing PSE (mrand=False)\n",
      "Reading catalogs/randoms.h5\n",
      "CMASS_North randoms: Read 59175065 galaxies from catalogs/randoms.h5, columns ['bv_150', 'bv_90', 'dec_deg', 'ra_deg', 'tcmb_150', 'tcmb_90', 'wfkp', 'z']\n",
      "Constructing PSE (mrand=True)\n",
      "Reading catalogs/mock_randoms.h5\n",
      "CMASS_North qpm mock randoms: Read 64590983 galaxies from catalogs/mock_randoms.h5, columns ['bv_150', 'bv_90', 'dec_deg', 'ra_deg', 'tcmb_150', 'tcmb_90', 'wfkp', 'z']\n"
     ]
    }
   ],
   "source": [
    "# IMPORTANT NOTE: we construct the power spectrum estimators before creating the multiprocessing Pool.\n",
    "# This is okay because the estimators are the same for all workers in the pool.\n",
    "\n",
    "# If instead of doing this, we constructed a power spectrum estimator independently on each worker, the\n",
    "# memory usage would be much higher!\n",
    "\n",
    "def construct_pse_if_file_does_not_exist(filename, mrand):\n",
    "    if not os.path.exists(filename):\n",
    "        get_pse(mrand)\n",
    "\n",
    "construct_pse_if_file_does_not_exist('pk_data.npy', mrand=False)\n",
    "\n",
    "for i in range(nmocks):\n",
    "    construct_pse_if_file_does_not_exist(f'power_spectra/pk_mock_{i}.npy', mrand=True)\n",
    "\n",
    "for i in range(nsurr):\n",
    "    construct_pse_if_file_does_not_exist(f'power_spectra/pk_surr_{i}.npy', mrand=False)"
   ]
  },
  {
   "cell_type": "code",
   "execution_count": null,
   "id": "91ce8531-7020-477c-906a-348fc4a65025",
   "metadata": {},
   "outputs": [],
   "source": [
    "# IMPORTANT NOTE: we use a kszx.utils.Pool, not a multiprocessing.Pool.\n",
    "# This reseeds the global numpy RNG in each worker process.\n",
    "# If we didn't do this, there would be a lot of duplicate surrogate sims.\n",
    "\n",
    "with kszx.utils.Pool() as pool:\n",
    "    # Submit jobs to queue, return multiprocessing.AsyncResult objects.\n",
    "    pk_data = pool.apply_async(run_data)\n",
    "    pk_mocks = [ pool.apply_async(run_mock, (i,)) for i in range(nsurr) ]\n",
    "    pk_surrogates = [ pool.apply_async(run_surrogate, (i,)) for i in range(nsurr) ]\n",
    "\n",
    "    # Wait on results and convert to numpy arrays.\n",
    "    pk_data = pk_data.get()                                       # shape (3,3,nkbins)\n",
    "    pk_mocks = np.array([ x.get() for x in pk_mocks ])            # shape (nmocks,3,3,nkbins)\n",
    "    pk_surrogates = np.array([ x.get() for x in pk_surrogates ])  # shape (nsurr,6,6,nkbins)"
   ]
  },
  {
   "cell_type": "code",
   "execution_count": null,
   "id": "42f2dd86-abfb-4527-ad32-0099461e8f26",
   "metadata": {},
   "outputs": [],
   "source": [
    "# Just checking!\n",
    "assert pk_data.shape == (3,3,nkbins)\n",
    "assert pk_mocks.shape == (nmocks,3,3,nkbins)\n",
    "assert pk_surrogates.shape == (nsurr,6,6,nkbins)\n",
    "\n",
    "kszx.io_utils.write_npy('pk_mocks.npy', pk_mocks)\n",
    "kszx.io_utils.write_npy('pk_surrogates.npy', pk_surrogates)    "
   ]
  },
  {
   "cell_type": "code",
   "execution_count": null,
   "id": "2ce14240-23cd-40c9-9fa3-58f0b4538032",
   "metadata": {},
   "outputs": [],
   "source": []
  }
 ],
 "metadata": {
  "kernelspec": {
   "display_name": "kszx",
   "language": "python",
   "name": "kszx"
  },
  "language_info": {
   "codemirror_mode": {
    "name": "ipython",
    "version": 3
   },
   "file_extension": ".py",
   "mimetype": "text/x-python",
   "name": "python",
   "nbconvert_exporter": "python",
   "pygments_lexer": "ipython3",
   "version": "3.12.6"
  }
 },
 "nbformat": 4,
 "nbformat_minor": 5
}
